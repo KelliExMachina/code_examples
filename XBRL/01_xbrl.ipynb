{
 "cells": [
  {
   "cell_type": "code",
   "execution_count": 1,
   "id": "corrected-flower",
   "metadata": {},
   "outputs": [],
   "source": [
    "import os\n",
    "import pandas as pd\n",
    "import numpy as np\n",
    "\n"
   ]
  },
  {
   "cell_type": "code",
   "execution_count": 3,
   "id": "abroad-audio",
   "metadata": {},
   "outputs": [
    {
     "name": "stdout",
     "output_type": "stream",
     "text": [
      "Collecting python-xbrl\n",
      "  Downloading python-xbrl-1.1.1.tar.gz (10 kB)\n",
      "Requirement already satisfied: pytest in /Users/kennedy/opt/anaconda3/lib/python3.7/site-packages (from python-xbrl) (6.2.2)\n",
      "Collecting pep8\n",
      "  Downloading pep8-1.7.1-py2.py3-none-any.whl (41 kB)\n",
      "\u001b[K     |████████████████████████████████| 41 kB 526 kB/s eta 0:00:01\n",
      "\u001b[?25hCollecting marshmallow\n",
      "  Downloading marshmallow-3.12.1-py2.py3-none-any.whl (47 kB)\n",
      "\u001b[K     |████████████████████████████████| 47 kB 4.8 MB/s eta 0:00:011\n",
      "\u001b[?25hRequirement already satisfied: beautifulsoup4 in /Users/kennedy/opt/anaconda3/lib/python3.7/site-packages (from python-xbrl) (4.9.3)\n",
      "Collecting ordereddict\n",
      "  Downloading ordereddict-1.1.tar.gz (2.1 kB)\n",
      "Requirement already satisfied: lxml in /Users/kennedy/opt/anaconda3/lib/python3.7/site-packages (from python-xbrl) (4.6.2)\n",
      "Requirement already satisfied: six in /Users/kennedy/opt/anaconda3/lib/python3.7/site-packages (from python-xbrl) (1.15.0)\n",
      "Requirement already satisfied: soupsieve>1.2 in /Users/kennedy/opt/anaconda3/lib/python3.7/site-packages (from beautifulsoup4->python-xbrl) (2.0.1)\n",
      "Requirement already satisfied: attrs>=19.2.0 in /Users/kennedy/opt/anaconda3/lib/python3.7/site-packages (from pytest->python-xbrl) (20.3.0)\n",
      "Requirement already satisfied: iniconfig in /Users/kennedy/opt/anaconda3/lib/python3.7/site-packages (from pytest->python-xbrl) (1.1.1)\n",
      "Requirement already satisfied: packaging in /Users/kennedy/opt/anaconda3/lib/python3.7/site-packages (from pytest->python-xbrl) (20.8)\n",
      "Requirement already satisfied: pluggy<1.0.0a1,>=0.12 in /Users/kennedy/opt/anaconda3/lib/python3.7/site-packages (from pytest->python-xbrl) (0.13.1)\n",
      "Requirement already satisfied: py>=1.8.2 in /Users/kennedy/opt/anaconda3/lib/python3.7/site-packages (from pytest->python-xbrl) (1.10.0)\n",
      "Requirement already satisfied: toml in /Users/kennedy/opt/anaconda3/lib/python3.7/site-packages (from pytest->python-xbrl) (0.10.1)\n",
      "Requirement already satisfied: importlib-metadata>=0.12 in /Users/kennedy/opt/anaconda3/lib/python3.7/site-packages (from pytest->python-xbrl) (3.4.0)\n",
      "Requirement already satisfied: typing-extensions>=3.6.4 in /Users/kennedy/opt/anaconda3/lib/python3.7/site-packages (from importlib-metadata>=0.12->pytest->python-xbrl) (3.7.4.3)\n",
      "Requirement already satisfied: zipp>=0.5 in /Users/kennedy/opt/anaconda3/lib/python3.7/site-packages (from importlib-metadata>=0.12->pytest->python-xbrl) (3.4.0)\n",
      "Requirement already satisfied: pyparsing>=2.0.2 in /Users/kennedy/opt/anaconda3/lib/python3.7/site-packages (from packaging->pytest->python-xbrl) (2.4.7)\n",
      "Building wheels for collected packages: python-xbrl, ordereddict\n",
      "  Building wheel for python-xbrl (setup.py) ... \u001b[?25ldone\n",
      "\u001b[?25h  Created wheel for python-xbrl: filename=python_xbrl-1.1.1-py2.py3-none-any.whl size=10623 sha256=433a2265a696171829284edd395b073071107b0f3c01e3b4df775e5f0e52c85d\n",
      "  Stored in directory: /Users/kennedy/Library/Caches/pip/wheels/bc/c3/08/adc9866ca3fe6b0e9ec8a84ffec6e5df17917f46f64b763596\n",
      "  Building wheel for ordereddict (setup.py) ... \u001b[?25ldone\n",
      "\u001b[?25h  Created wheel for ordereddict: filename=ordereddict-1.1-py3-none-any.whl size=3554 sha256=ace26a596836e60b573d95e341a46f25058079391a76db3b48ebbe106646769f\n",
      "  Stored in directory: /Users/kennedy/Library/Caches/pip/wheels/97/ca/c3/78f1fe551cb748c3dc60e50b60c87febf00a3ffebd8c4e7094\n",
      "Successfully built python-xbrl ordereddict\n",
      "Installing collected packages: pep8, ordereddict, marshmallow, python-xbrl\n",
      "Successfully installed marshmallow-3.12.1 ordereddict-1.1 pep8-1.7.1 python-xbrl-1.1.1\n"
     ]
    }
   ],
   "source": [
    "!pip install python-xbrl"
   ]
  },
  {
   "cell_type": "code",
   "execution_count": 4,
   "id": "southeast-barcelona",
   "metadata": {},
   "outputs": [],
   "source": [
    "from xbrl import XBRLParser, GAAP, GAAPSerializer"
   ]
  },
  {
   "cell_type": "code",
   "execution_count": 20,
   "id": "coral-shadow",
   "metadata": {},
   "outputs": [],
   "source": [
    "file_2018 = os.path.join('data','gleif-annual-report-2018', 'reports', 'gleif-annual-report-2018.xhtml')\n",
    "file_2019 = os.path.join('data','gleif-ixbrl-viewer','ixbrl-viewer.signed4.htm')\n"
   ]
  },
  {
   "cell_type": "code",
   "execution_count": 21,
   "id": "beautiful-strengthening",
   "metadata": {},
   "outputs": [
    {
     "data": {
      "text/plain": [
       "'data/gleif-annual-report-2018/reports/gleif-annual-report-2018.xhtml'"
      ]
     },
     "execution_count": 21,
     "metadata": {},
     "output_type": "execute_result"
    }
   ],
   "source": [
    "file_2018"
   ]
  },
  {
   "cell_type": "code",
   "execution_count": 22,
   "id": "understood-indicator",
   "metadata": {},
   "outputs": [],
   "source": [
    "xbrl_2018 = XBRLParser()\n",
    "xbrl_2019 = XBRLParser()\n",
    "xbrl_parsed8 = xbrl_2018.parse(open(file_2018))\n",
    "xbrl_parsed9 = xbrl_2019.parse(open(file_2019))"
   ]
  },
  {
   "cell_type": "code",
   "execution_count": 25,
   "id": "superb-quebec",
   "metadata": {},
   "outputs": [],
   "source": [
    "gaap_18 = xbrl_2018.parseGAAP(xbrl_parsed8, doc_date=\"20181231\", context=\"current\", ignore_errors=0)\n",
    "gaap_19 = xbrl_2019.parseGAAP(xbrl_parsed9, doc_date=\"20191231\", context=\"current\", ignore_errors=0)"
   ]
  },
  {
   "cell_type": "code",
   "execution_count": 26,
   "id": "corporate-difference",
   "metadata": {},
   "outputs": [],
   "source": [
    "serializer = GAAPSerializer()\n",
    "results_18 = serializer.dump(gaap_18)\n",
    "results_19 = serializer.dump(gaap_19)"
   ]
  },
  {
   "cell_type": "code",
   "execution_count": 27,
   "id": "excessive-public",
   "metadata": {},
   "outputs": [
    {
     "name": "stdout",
     "output_type": "stream",
     "text": [
      "{'nonoperating_income_loss': 0.0, 'income_before_equity_investments': 0.0, 'net_cash_flows_financing_continuing': 0.0, 'redeemable_noncontrolling_interest': 0.0, 'net_cash_flows_operating_continuing': 0.0, 'net_income_parent': 0.0, 'temporary_equity': 0.0, 'net_income_loss_noncontrolling': 0.0, 'commitments_and_contingencies': 0.0, 'net_cash_flows_operating_discontinued': 0.0, 'common_shares_authorized': 0.0, 'revenue': 0.0, 'non_current_assets': 0.0, 'comprehensive_income_parent': 0.0, 'net_cash_flows_investing_continuing': 0.0, 'net_cash_flows_operating': 0.0, 'costs_and_expenses': 0.0, 'net_cash_flows_investing': 0.0, 'preferred_stock_dividends': 0.0, 'current_assets': 0.0, 'operating_expenses': 0.0, 'income_from_equity_investments': 0.0, 'interest_and_debt_expense': 0.0, 'other_comprehensive_income': 0.0, 'common_shares_outstanding': 0.0, 'net_cash_flows_discontinued': 0.0, 'net_cash_flows_financing': 0.0, 'net_cash_flows_investing_discontinued': 0.0, 'income_tax_expense_benefit': 0.0, 'noncurrent_liabilities': 0.0, 'assets': 0.0, 'liabilities_and_equity': 0.0, 'equity_attributable_parent': 0.0, 'equity_attributable_interest': 0.0, 'common_shares_issued': 0.0, 'liabilities': 0.0, 'operating_income_loss': 0.0, 'income_loss': 0.0, 'comprehensive_income': 0.0, 'cost_of_revenue': 0.0, 'gross_profit': 0.0, 'current_liabilities': 0.0, 'comprehensive_income_interest': 0.0, 'net_income_loss': 0.0, 'stockholders_equity': 0.0, 'extraordary_items_gain_loss': 0.0, 'net_income_shareholders': 0.0, 'equity': 0.0, 'other_operating_income': 0.0}\n"
     ]
    }
   ],
   "source": [
    "print(results_18)"
   ]
  },
  {
   "cell_type": "code",
   "execution_count": 28,
   "id": "supreme-environment",
   "metadata": {},
   "outputs": [
    {
     "name": "stdout",
     "output_type": "stream",
     "text": [
      "{'nonoperating_income_loss': 0.0, 'income_before_equity_investments': 0.0, 'net_cash_flows_financing_continuing': 0.0, 'redeemable_noncontrolling_interest': 0.0, 'net_cash_flows_operating_continuing': 0.0, 'net_income_parent': 0.0, 'temporary_equity': 0.0, 'net_income_loss_noncontrolling': 0.0, 'commitments_and_contingencies': 0.0, 'net_cash_flows_operating_discontinued': 0.0, 'common_shares_authorized': 0.0, 'revenue': 0.0, 'non_current_assets': 0.0, 'comprehensive_income_parent': 0.0, 'net_cash_flows_investing_continuing': 0.0, 'net_cash_flows_operating': 0.0, 'costs_and_expenses': 0.0, 'net_cash_flows_investing': 0.0, 'preferred_stock_dividends': 0.0, 'current_assets': 0.0, 'operating_expenses': 0.0, 'income_from_equity_investments': 0.0, 'interest_and_debt_expense': 0.0, 'other_comprehensive_income': 0.0, 'common_shares_outstanding': 0.0, 'net_cash_flows_discontinued': 0.0, 'net_cash_flows_financing': 0.0, 'net_cash_flows_investing_discontinued': 0.0, 'income_tax_expense_benefit': 0.0, 'noncurrent_liabilities': 0.0, 'assets': 0.0, 'liabilities_and_equity': 0.0, 'equity_attributable_parent': 0.0, 'equity_attributable_interest': 0.0, 'common_shares_issued': 0.0, 'liabilities': 0.0, 'operating_income_loss': 0.0, 'income_loss': 0.0, 'comprehensive_income': 0.0, 'cost_of_revenue': 0.0, 'gross_profit': 0.0, 'current_liabilities': 0.0, 'comprehensive_income_interest': 0.0, 'net_income_loss': 0.0, 'stockholders_equity': 0.0, 'extraordary_items_gain_loss': 0.0, 'net_income_shareholders': 0.0, 'equity': 0.0, 'other_operating_income': 0.0}\n"
     ]
    }
   ],
   "source": [
    "print(results_19)"
   ]
  },
  {
   "cell_type": "markdown",
   "id": "acoustic-decimal",
   "metadata": {},
   "source": [
    "# References  \n",
    "[Installing](https://pypi.org/project/python-xbrl/)  \n",
    "[XBRL Tutorial Companies](http://28msec.github.io/xbrl-tutorial/gitbook/chap-BizQLTutorial-Companies.html)  "
   ]
  },
  {
   "cell_type": "code",
   "execution_count": null,
   "id": "decimal-tomorrow",
   "metadata": {},
   "outputs": [],
   "source": []
  }
 ],
 "metadata": {
  "kernelspec": {
   "display_name": "Python 3",
   "language": "python",
   "name": "python3"
  },
  "language_info": {
   "codemirror_mode": {
    "name": "ipython",
    "version": 3
   },
   "file_extension": ".py",
   "mimetype": "text/x-python",
   "name": "python",
   "nbconvert_exporter": "python",
   "pygments_lexer": "ipython3",
   "version": "3.7.9"
  }
 },
 "nbformat": 4,
 "nbformat_minor": 5
}
