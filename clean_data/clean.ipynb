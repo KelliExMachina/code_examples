{
 "cells": [
  {
   "cell_type": "code",
   "execution_count": 5,
   "id": "anticipated-tampa",
   "metadata": {},
   "outputs": [],
   "source": [
    "import os\n",
    "import csv\n",
    "import pandas as pd\n",
    "import numpy as np"
   ]
  },
  {
   "cell_type": "code",
   "execution_count": 2,
   "id": "undefined-graphic",
   "metadata": {},
   "outputs": [],
   "source": [
    "file_json = './data/YouTubeDataset_withChannelElapsed.json'\n",
    "file_twitter_stats = './data/statistics-full_dataset.tsv'\n",
    "file_twitter_data = './data/full_dataset.tsv.gz'\n",
    "file_youtube = './data/USvideos_modified.csv.zip'"
   ]
  },
  {
   "cell_type": "code",
   "execution_count": 16,
   "id": "concrete-bhutan",
   "metadata": {},
   "outputs": [],
   "source": [
    "youtube_df = pd.read_csv(file_youtube)\n",
    "twitter_data_df = pd.read_csv(file_twitter_data, sep='\\t')\n",
    "twitter_stats_df = pd.read_csv(file_twitter_stats,sep='\\t')\n",
    "youtube_json_df = pd.read_json(file_json)"
   ]
  },
  {
   "cell_type": "code",
   "execution_count": 8,
   "id": "covered-nitrogen",
   "metadata": {},
   "outputs": [
    {
     "data": {
      "text/plain": [
       "date        object\n",
       "tweet_id     int64\n",
       "dtype: object"
      ]
     },
     "execution_count": 8,
     "metadata": {},
     "output_type": "execute_result"
    }
   ],
   "source": [
    "twitter_stats_df.dtypes"
   ]
  },
  {
   "cell_type": "code",
   "execution_count": 9,
   "id": "derived-graph",
   "metadata": {},
   "outputs": [
    {
     "data": {
      "text/plain": [
       "(85, 2)"
      ]
     },
     "execution_count": 9,
     "metadata": {},
     "output_type": "execute_result"
    }
   ],
   "source": [
    "twitter_stats_df.shape"
   ]
  },
  {
   "cell_type": "code",
   "execution_count": 12,
   "id": "surprised-atmosphere",
   "metadata": {},
   "outputs": [
    {
     "data": {
      "text/plain": [
       "date   tweet_id\n",
       "False  False       85\n",
       "dtype: int64"
      ]
     },
     "execution_count": 12,
     "metadata": {},
     "output_type": "execute_result"
    }
   ],
   "source": [
    "twitter_stats_df.isnull().value_counts()"
   ]
  },
  {
   "cell_type": "code",
   "execution_count": 21,
   "id": "worldwide-style",
   "metadata": {},
   "outputs": [
    {
     "data": {
      "text/plain": [
       "totalviews/channelelapsedtime    float64\n",
       "channelId                         object\n",
       "videoCategoryId                    int64\n",
       "channelViewCount                   int64\n",
       "likes/subscriber                 float64\n",
       "views/subscribers                float64\n",
       "videoCount                         int64\n",
       "subscriberCount                    int64\n",
       "videoId                           object\n",
       "dislikes/views                   float64\n",
       "channelelapsedtime                 int64\n",
       "comments/subscriber              float64\n",
       "likes/views                      float64\n",
       "channelCommentCount                int64\n",
       "videoViewCount                     int64\n",
       "likes/dislikes                   float64\n",
       "comments/views                   float64\n",
       "totvideos/videocount             float64\n",
       "elapsedtime                        int64\n",
       "videoLikeCount                     int64\n",
       "videoDislikeCount                  int64\n",
       "dislikes/subscriber              float64\n",
       "totviews/totsubs                 float64\n",
       "views/elapsedtime                float64\n",
       "videoPublished                    object\n",
       "VideoCommentCount                  int64\n",
       "dtype: object"
      ]
     },
     "execution_count": 21,
     "metadata": {},
     "output_type": "execute_result"
    }
   ],
   "source": [
    "youtube_json_df.dtypes"
   ]
  },
  {
   "cell_type": "code",
   "execution_count": 24,
   "id": "prompt-toyota",
   "metadata": {},
   "outputs": [
    {
     "data": {
      "text/plain": [
       "0         2012-01-19T18:38:28.000Z\n",
       "1         2015-03-30T04:04:40.000Z\n",
       "2         2009-08-07T06:51:10.000Z\n",
       "3         2011-08-04T01:07:38.000Z\n",
       "4         2014-04-29T15:44:44.000Z\n",
       "                    ...           \n",
       "575605    2012-02-01T04:01:17.000Z\n",
       "575606    2007-01-25T14:38:49.000Z\n",
       "575607    2013-01-10T07:20:03.000Z\n",
       "575608    2013-05-20T18:33:03.000Z\n",
       "575609    2012-05-21T05:57:05.000Z\n",
       "Name: videoPublished, Length: 575610, dtype: object"
      ]
     },
     "execution_count": 24,
     "metadata": {},
     "output_type": "execute_result"
    }
   ],
   "source": [
    "youtube_json_df['videoPublished']"
   ]
  },
  {
   "cell_type": "code",
   "execution_count": null,
   "id": "binding-calendar",
   "metadata": {},
   "outputs": [],
   "source": []
  }
 ],
 "metadata": {
  "kernelspec": {
   "display_name": "base",
   "language": "python",
   "name": "base"
  },
  "language_info": {
   "codemirror_mode": {
    "name": "ipython",
    "version": 3
   },
   "file_extension": ".py",
   "mimetype": "text/x-python",
   "name": "python",
   "nbconvert_exporter": "python",
   "pygments_lexer": "ipython3",
   "version": "3.7.9"
  }
 },
 "nbformat": 4,
 "nbformat_minor": 5
}
