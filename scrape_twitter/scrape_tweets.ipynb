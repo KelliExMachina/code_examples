{
 "cells": [
  {
   "cell_type": "markdown",
   "id": "popular-central",
   "metadata": {},
   "source": [
    "![Photo by Negative Space from Pexels](https://images.pexels.com/photos/160107/pexels-photo-160107.jpeg?cs=srgb&dl=pexels-negative-space-160107.jpg&fm=jpg)"
   ]
  },
  {
   "cell_type": "code",
   "execution_count": 22,
   "id": "beginning-gnome",
   "metadata": {},
   "outputs": [],
   "source": [
    "import os\n",
    "import requests\n",
    "\n",
    "import pandas as pd\n",
    "from config import twit_api_key, twit_api_secret_key, twit_access_token, twit_access_secret"
   ]
  },
  {
   "cell_type": "code",
   "execution_count": 23,
   "id": "statistical-bernard",
   "metadata": {},
   "outputs": [],
   "source": [
    "CONSUMER_KEY = twit_api_key\n",
    "CONSUMER_KEY_SECRET = twit_api_secret_key\n",
    "ACCESS_TOKEN = twit_access_token\n",
    "ACCESS_TOKEN_SECRET = twit_access_secret"
   ]
  },
  {
   "cell_type": "code",
   "execution_count": null,
   "id": "involved-interference",
   "metadata": {},
   "outputs": [],
   "source": []
  }
 ],
 "metadata": {
  "kernelspec": {
   "display_name": "PythonData",
   "language": "python",
   "name": "pythondata"
  },
  "language_info": {
   "codemirror_mode": {
    "name": "ipython",
    "version": 3
   },
   "file_extension": ".py",
   "mimetype": "text/x-python",
   "name": "python",
   "nbconvert_exporter": "python",
   "pygments_lexer": "ipython3",
   "version": "3.7.9"
  }
 },
 "nbformat": 4,
 "nbformat_minor": 5
}
